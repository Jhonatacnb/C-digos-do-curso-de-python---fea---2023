{
 "cells": [
  {
   "cell_type": "code",
   "execution_count": 3,
   "id": "b532a55a",
   "metadata": {},
   "outputs": [],
   "source": [
    "import random\n",
    "random.randint?"
   ]
  },
  {
   "cell_type": "code",
   "execution_count": 54,
   "id": "6598b8e4",
   "metadata": {},
   "outputs": [
    {
     "name": "stdout",
     "output_type": "stream",
     "text": [
      "olá sua de menor\n"
     ]
    }
   ],
   "source": [
    "print(\"olá sua de menor\")"
   ]
  },
  {
   "cell_type": "code",
   "execution_count": 50,
   "id": "1e9ffdad",
   "metadata": {},
   "outputs": [],
   "source": [
    "num = 5"
   ]
  },
  {
   "cell_type": "code",
   "execution_count": 52,
   "id": "2c521fa5",
   "metadata": {},
   "outputs": [],
   "source": [
    "num = num + 5"
   ]
  },
  {
   "cell_type": "code",
   "execution_count": 51,
   "id": "0aedda8b",
   "metadata": {},
   "outputs": [],
   "source": [
    "num = num *4"
   ]
  },
  {
   "cell_type": "code",
   "execution_count": 55,
   "id": "99ef8471",
   "metadata": {
    "scrolled": true
   },
   "outputs": [
    {
     "name": "stdout",
     "output_type": "stream",
     "text": [
      "25\n"
     ]
    }
   ],
   "source": [
    "print (num)"
   ]
  },
  {
   "cell_type": "markdown",
   "id": "1a28d3db",
   "metadata": {},
   "source": [
    "## Olá, menor!\n",
    "    - Nem assistiu Demon Slayer\n",
    "    - Zé sem sono\n",
    "    - dólares"
   ]
  }
 ],
 "metadata": {
  "kernelspec": {
   "display_name": "Python 3 (ipykernel)",
   "language": "python",
   "name": "python3"
  },
  "language_info": {
   "codemirror_mode": {
    "name": "ipython",
    "version": 3
   },
   "file_extension": ".py",
   "mimetype": "text/x-python",
   "name": "python",
   "nbconvert_exporter": "python",
   "pygments_lexer": "ipython3",
   "version": "3.11.4"
  }
 },
 "nbformat": 4,
 "nbformat_minor": 5
}
